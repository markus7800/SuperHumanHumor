{
 "cells": [
  {
   "cell_type": "markdown",
   "metadata": {},
   "source": [
    "# Super Human Humor with GPT2"
   ]
  },
  {
   "cell_type": "markdown",
   "metadata": {},
   "source": [
    "## Load dataset\n",
    "\n",
    "All r/jokes reddit submissions till 02/2017 from https://github.com/taivop/joke-dataset.\n",
    "\n",
    "I scraped all submissions with more than 5 upvotes from 02/2017 to 03/2020 with https://pushshift.io/."
   ]
  },
  {
   "cell_type": "code",
   "execution_count": 1,
   "metadata": {
    "id": "RgdqZbaWqP3_"
   },
   "outputs": [],
   "source": [
    "import pandas as pd"
   ]
  },
  {
   "cell_type": "code",
   "execution_count": 2,
   "metadata": {
    "id": "zxDssDgXulcy"
   },
   "outputs": [],
   "source": [
    "jokes2017 = pd.read_json(\"drive/MyDrive/Colab Notebooks/reddit_jokes_before_2017.json\")\n",
    "jokes2020 = pd.read_json(\"drive/MyDrive/Colab Notebooks/reddit_jokes_2017_2020.json\")\n",
    "jokes2020 = jokes2020.drop(\"created\", axis=1)"
   ]
  },
  {
   "cell_type": "code",
   "execution_count": 3,
   "metadata": {
    "colab": {
     "base_uri": "https://localhost:8080/"
    },
    "id": "PCbH30E9C4NN",
    "outputId": "e3a6ce61-251f-4b80-9563-c299e4f10469"
   },
   "outputs": [
    {
     "data": {
      "text/plain": [
       "(386253, 4)"
      ]
     },
     "execution_count": 3,
     "metadata": {
      "tags": []
     },
     "output_type": "execute_result"
    }
   ],
   "source": [
    "joke_data = jokes2017.append(jokes2020)\n",
    "joke_data.shape"
   ]
  },
  {
   "cell_type": "code",
   "execution_count": 4,
   "metadata": {
    "colab": {
     "base_uri": "https://localhost:8080/"
    },
    "id": "Bmmsh2ypNoVR",
    "outputId": "dd6999e7-268a-4c6b-a94b-51d65d3d2995"
   },
   "outputs": [
    {
     "data": {
      "text/plain": [
       "(377704, 4)"
      ]
     },
     "execution_count": 4,
     "metadata": {
      "tags": []
     },
     "output_type": "execute_result"
    }
   ],
   "source": [
    "joke_data = joke_data[~joke_data.body.isin([\"[Removed]\", \"[Deleted]\", \"[removed]\", \"[deleted]\"])]\n",
    "joke_data.shape"
   ]
  },
  {
   "cell_type": "code",
   "execution_count": 5,
   "metadata": {
    "id": "ZW1EfdhKuptZ"
   },
   "outputs": [],
   "source": [
    "joke_data[\"joke\"] = joke_data[\"title\"] + \"\\n\" + joke_data[\"body\"]\n",
    "joke_data[\"length\"] = joke_data[[\"joke\"]].applymap(lambda x: len(x))\n",
    "joke_data = joke_data[[\"joke\",\"length\", \"score\"]]"
   ]
  },
  {
   "cell_type": "markdown",
   "metadata": {},
   "source": [
    "#### Filter jokes for popularity and length"
   ]
  },
  {
   "cell_type": "code",
   "execution_count": 6,
   "metadata": {
    "colab": {
     "base_uri": "https://localhost:8080/",
     "height": 221
    },
    "id": "BjO5EDTOusdb",
    "outputId": "2ec8a686-a1fd-4027-f154-91e7c7a36faf"
   },
   "outputs": [
    {
     "name": "stdout",
     "output_type": "stream",
     "text": [
      "(32690, 3)\n"
     ]
    },
    {
     "data": {
      "text/html": [
       "<div>\n",
       "<style scoped>\n",
       "    .dataframe tbody tr th:only-of-type {\n",
       "        vertical-align: middle;\n",
       "    }\n",
       "\n",
       "    .dataframe tbody tr th {\n",
       "        vertical-align: top;\n",
       "    }\n",
       "\n",
       "    .dataframe thead th {\n",
       "        text-align: right;\n",
       "    }\n",
       "</style>\n",
       "<table border=\"1\" class=\"dataframe\">\n",
       "  <thead>\n",
       "    <tr style=\"text-align: right;\">\n",
       "      <th></th>\n",
       "      <th>joke</th>\n",
       "      <th>length</th>\n",
       "      <th>score</th>\n",
       "    </tr>\n",
       "  </thead>\n",
       "  <tbody>\n",
       "    <tr>\n",
       "      <th>139246</th>\n",
       "      <td>Calm down about the Net Neutrality thing...\\nP...</td>\n",
       "      <td>142</td>\n",
       "      <td>122825</td>\n",
       "    </tr>\n",
       "    <tr>\n",
       "      <th>34603</th>\n",
       "      <td>If your surprised that Jeffrey Epstein commite...</td>\n",
       "      <td>109</td>\n",
       "      <td>95511</td>\n",
       "    </tr>\n",
       "    <tr>\n",
       "      <th>162930</th>\n",
       "      <td>V\\nV\\n\\n*Edit: seems like the ctrl key on my k...</td>\n",
       "      <td>67</td>\n",
       "      <td>95020</td>\n",
       "    </tr>\n",
       "    <tr>\n",
       "      <th>126024</th>\n",
       "      <td>The only two white actors in Black Panther are...</td>\n",
       "      <td>269</td>\n",
       "      <td>87338</td>\n",
       "    </tr>\n",
       "    <tr>\n",
       "      <th>135641</th>\n",
       "      <td>Ajit Pai.\\nThat's it. That's the whole fucking...</td>\n",
       "      <td>226</td>\n",
       "      <td>85664</td>\n",
       "    </tr>\n",
       "  </tbody>\n",
       "</table>\n",
       "</div>"
      ],
      "text/plain": [
       "                                                     joke  length   score\n",
       "139246  Calm down about the Net Neutrality thing...\\nP...     142  122825\n",
       "34603   If your surprised that Jeffrey Epstein commite...     109   95511\n",
       "162930  V\\nV\\n\\n*Edit: seems like the ctrl key on my k...      67   95020\n",
       "126024  The only two white actors in Black Panther are...     269   87338\n",
       "135641  Ajit Pai.\\nThat's it. That's the whole fucking...     226   85664"
      ]
     },
     "execution_count": 6,
     "metadata": {
      "tags": []
     },
     "output_type": "execute_result"
    }
   ],
   "source": [
    "best_jokes = joke_data[\n",
    "                       (joke_data.score >= 100) &\n",
    "                       (joke_data.length <= 300)\n",
    "                       ]\n",
    "best_jokes = best_jokes.sort_values(\"score\", ascending=False)\n",
    "print(best_jokes.shape)\n",
    "best_jokes.head()"
   ]
  },
  {
   "cell_type": "code",
   "execution_count": 7,
   "metadata": {
    "id": "jQi2yOX1yTuk"
   },
   "outputs": [],
   "source": [
    "jokes = best_jokes.joke"
   ]
  },
  {
   "cell_type": "code",
   "execution_count": 8,
   "metadata": {
    "colab": {
     "base_uri": "https://localhost:8080/"
    },
    "id": "Zsvgs1ClyXy_",
    "outputId": "730644b0-da50-4e66-c801-229f3faf5ac5"
   },
   "outputs": [
    {
     "data": {
      "text/plain": [
       "139246    Calm down about the Net Neutrality thing...\\nP...\n",
       "34603     If your surprised that Jeffrey Epstein commite...\n",
       "162930    V\\nV\\n\\n*Edit: seems like the ctrl key on my k...\n",
       "126024    The only two white actors in Black Panther are...\n",
       "135641    Ajit Pai.\\nThat's it. That's the whole fucking...\n",
       "Name: joke, dtype: object"
      ]
     },
     "execution_count": 8,
     "metadata": {
      "tags": []
     },
     "output_type": "execute_result"
    }
   ],
   "source": [
    "jokes.head()"
   ]
  },
  {
   "cell_type": "code",
   "execution_count": 9,
   "metadata": {
    "colab": {
     "base_uri": "https://localhost:8080/"
    },
    "id": "Gp5IP8ZAyZJK",
    "outputId": "4f9676ba-7a09-407b-b74f-0995a179ccdb"
   },
   "outputs": [
    {
     "data": {
      "text/plain": [
       "(32690,)"
      ]
     },
     "execution_count": 9,
     "metadata": {
      "tags": []
     },
     "output_type": "execute_result"
    }
   ],
   "source": [
    "jokes.shape"
   ]
  },
  {
   "cell_type": "markdown",
   "metadata": {},
   "source": [
    "#### The following code is adapted from this [blog post](https://medium.com/swlh/fine-tuning-gpt-2-for-magic-the-gathering-flavour-text-generation-3bafd0f9bb93)."
   ]
  },
  {
   "cell_type": "markdown",
   "metadata": {},
   "source": [
    "## Load GPT2 Tokenizer from huggingface's transformers"
   ]
  },
  {
   "cell_type": "code",
   "execution_count": 10,
   "metadata": {
    "id": "JtLBWecax_ex"
   },
   "outputs": [],
   "source": [
    "%%capture\n",
    "!pip install transformers"
   ]
  },
  {
   "cell_type": "code",
   "execution_count": 11,
   "metadata": {
    "colab": {
     "base_uri": "https://localhost:8080/"
    },
    "id": "ViIC-x_Qx7sg",
    "outputId": "e141bebb-a847-4f06-8dbc-c69427be638c"
   },
   "outputs": [
    {
     "name": "stderr",
     "output_type": "stream",
     "text": [
      "Special tokens have been added in the vocabulary, make sure the associated word embedding are fine-tuned or trained.\n"
     ]
    },
    {
     "data": {
      "text/plain": [
       "[36674, 8255]"
      ]
     },
     "execution_count": 11,
     "metadata": {
      "tags": []
     },
     "output_type": "execute_result"
    }
   ],
   "source": [
    "from transformers import GPT2Tokenizer\n",
    "\n",
    "tokenizer = GPT2Tokenizer.from_pretrained('gpt2', \n",
    "                                          bos_token='<|startoftext|>', \n",
    "                                          eos_token='<|endoftext|>', \n",
    "                                          pad_token='<|pad|>')\n",
    "\n",
    "\n",
    "tokenizer.encode(\"Sample Text\")"
   ]
  },
  {
   "cell_type": "markdown",
   "metadata": {},
   "source": [
    "#### Limit the maximum token length because of RAM limitations."
   ]
  },
  {
   "cell_type": "code",
   "execution_count": 12,
   "metadata": {
    "colab": {
     "base_uri": "https://localhost:8080/",
     "height": 419
    },
    "id": "Hi6jDQWfFrBn",
    "outputId": "1a793ab7-63df-4f42-aa82-8d529eee3eb2"
   },
   "outputs": [
    {
     "data": {
      "text/html": [
       "<div>\n",
       "<style scoped>\n",
       "    .dataframe tbody tr th:only-of-type {\n",
       "        vertical-align: middle;\n",
       "    }\n",
       "\n",
       "    .dataframe tbody tr th {\n",
       "        vertical-align: top;\n",
       "    }\n",
       "\n",
       "    .dataframe thead th {\n",
       "        text-align: right;\n",
       "    }\n",
       "</style>\n",
       "<table border=\"1\" class=\"dataframe\">\n",
       "  <thead>\n",
       "    <tr style=\"text-align: right;\">\n",
       "      <th></th>\n",
       "      <th>joke</th>\n",
       "      <th>len_tokens</th>\n",
       "    </tr>\n",
       "  </thead>\n",
       "  <tbody>\n",
       "    <tr>\n",
       "      <th>6949</th>\n",
       "      <td>‌‌After s‌‌ex w‌‌ith m‌‌y n‌‌ew g‌‌irlfriend l...</td>\n",
       "      <td>188</td>\n",
       "    </tr>\n",
       "    <tr>\n",
       "      <th>6023</th>\n",
       "      <td>The p‌‌olice c‌‌alled t‌‌o t‌‌ell m‌‌e t‌‌hat ...</td>\n",
       "      <td>180</td>\n",
       "    </tr>\n",
       "    <tr>\n",
       "      <th>6338</th>\n",
       "      <td>I was fucking my secretary up her arse and my ...</td>\n",
       "      <td>175</td>\n",
       "    </tr>\n",
       "    <tr>\n",
       "      <th>37729</th>\n",
       "      <td>How many wipes does it take to clean a keyboar...</td>\n",
       "      <td>159</td>\n",
       "    </tr>\n",
       "    <tr>\n",
       "      <th>100758</th>\n",
       "      <td>A List of Forts.\\nA Fort.\\n\\nB Fort.\\n\\nC Fort...</td>\n",
       "      <td>143</td>\n",
       "    </tr>\n",
       "    <tr>\n",
       "      <th>...</th>\n",
       "      <td>...</td>\n",
       "      <td>...</td>\n",
       "    </tr>\n",
       "    <tr>\n",
       "      <th>103973</th>\n",
       "      <td>Donald Trump\\n</td>\n",
       "      <td>3</td>\n",
       "    </tr>\n",
       "    <tr>\n",
       "      <th>115133</th>\n",
       "      <td>Pao\\n</td>\n",
       "      <td>3</td>\n",
       "    </tr>\n",
       "    <tr>\n",
       "      <th>185526</th>\n",
       "      <td>Congress\\n</td>\n",
       "      <td>2</td>\n",
       "    </tr>\n",
       "    <tr>\n",
       "      <th>115174</th>\n",
       "      <td>Reddit\\n</td>\n",
       "      <td>2</td>\n",
       "    </tr>\n",
       "    <tr>\n",
       "      <th>143755</th>\n",
       "      <td>102\\n</td>\n",
       "      <td>2</td>\n",
       "    </tr>\n",
       "  </tbody>\n",
       "</table>\n",
       "<p>32690 rows × 2 columns</p>\n",
       "</div>"
      ],
      "text/plain": [
       "                                                     joke  len_tokens\n",
       "6949    ‌‌After s‌‌ex w‌‌ith m‌‌y n‌‌ew g‌‌irlfriend l...         188\n",
       "6023    The p‌‌olice c‌‌alled t‌‌o t‌‌ell m‌‌e t‌‌hat ...         180\n",
       "6338    I was fucking my secretary up her arse and my ...         175\n",
       "37729   How many wipes does it take to clean a keyboar...         159\n",
       "100758  A List of Forts.\\nA Fort.\\n\\nB Fort.\\n\\nC Fort...         143\n",
       "...                                                   ...         ...\n",
       "103973                                     Donald Trump\\n           3\n",
       "115133                                              Pao\\n           3\n",
       "185526                                         Congress\\n           2\n",
       "115174                                           Reddit\\n           2\n",
       "143755                                              102\\n           2\n",
       "\n",
       "[32690 rows x 2 columns]"
      ]
     },
     "execution_count": 12,
     "metadata": {
      "tags": []
     },
     "output_type": "execute_result"
    }
   ],
   "source": [
    "joke_tokens = pd.DataFrame(jokes.copy())\n",
    "joke_tokens[\"len_tokens\"] = joke_tokens.applymap(lambda x: len(tokenizer.encode(x)))\n",
    "joke_tokens = joke_tokens.sort_values(\"len_tokens\", ascending=False)\n",
    "joke_tokens"
   ]
  },
  {
   "cell_type": "code",
   "execution_count": 13,
   "metadata": {
    "colab": {
     "base_uri": "https://localhost:8080/"
    },
    "id": "4WXOtg99Gab0",
    "outputId": "80f28333-cad2-4c89-f486-a672b85d4d61"
   },
   "outputs": [
    {
     "data": {
      "text/plain": [
       "(32663,)"
      ]
     },
     "execution_count": 13,
     "metadata": {
      "tags": []
     },
     "output_type": "execute_result"
    }
   ],
   "source": [
    "jokes = joke_tokens.joke[joke_tokens.len_tokens <= 100]\n",
    "jokes.shape"
   ]
  },
  {
   "cell_type": "code",
   "execution_count": 14,
   "metadata": {
    "colab": {
     "base_uri": "https://localhost:8080/"
    },
    "id": "Y-QV2xgKykuh",
    "outputId": "5bdbc953-8484-4773-db3e-4769918524da"
   },
   "outputs": [
    {
     "name": "stdout",
     "output_type": "stream",
     "text": [
      "The longest flavour text is 100 tokens long.\n"
     ]
    }
   ],
   "source": [
    "max_flavour = max([len(tokenizer.encode(joke)) for joke in jokes])\n",
    "\n",
    "print(f'The longest flavour text is {max_flavour} tokens long.')"
   ]
  },
  {
   "cell_type": "markdown",
   "metadata": {},
   "source": [
    "## Create PyTorch Data Loaders"
   ]
  },
  {
   "cell_type": "code",
   "execution_count": 18,
   "metadata": {
    "id": "hBvUkaa6DKU_"
   },
   "outputs": [],
   "source": [
    "# reproducibility\n",
    "def seed_everything(seed_val):\n",
    "    random.seed(seed_val)\n",
    "    np.random.seed(seed_val)\n",
    "    torch.manual_seed(seed_val)\n",
    "    torch.cuda.manual_seed_all(seed_val)"
   ]
  },
  {
   "cell_type": "code",
   "execution_count": 16,
   "metadata": {
    "id": "LS2niCIczIBH"
   },
   "outputs": [],
   "source": [
    "bs = 32 # batchsize"
   ]
  },
  {
   "cell_type": "code",
   "execution_count": 17,
   "metadata": {
    "id": "ZqTm657Cx2lH"
   },
   "outputs": [],
   "source": [
    "import torch\n",
    "torch.manual_seed(42)\n",
    "from torch.utils.data import Dataset # this is the pytorch class import\n",
    "\n",
    "class JokeDataset(Dataset):\n",
    "    def __init__(self, txt_list, tokenizer, gpt2_type=\"gpt2\", max_length=max_flavour):\n",
    "        self.tokenizer = tokenizer # the gpt2 tokenizer we instantiated\n",
    "        self.input_ids = []\n",
    "        self.attn_masks = []\n",
    "\n",
    "        for txt in txt_list:\n",
    "            \"\"\"\n",
    "            This loop will iterate through each entry in the flavour text corpus.\n",
    "            For each bit of text it will prepend it with the start of text token,\n",
    "            then append the end of text token and pad to the maximum length with the \n",
    "            pad token. \n",
    "            \"\"\"\n",
    "\n",
    "            encodings_dict = tokenizer('<|startoftext|>'+ txt + '<|endoftext|>', \n",
    "                                     truncation=True, \n",
    "                                     max_length=max_length, \n",
    "                                     padding=\"max_length\")\n",
    "\n",
    "            \"\"\"\n",
    "            Each iteration then appends either the encoded tensor to a list,\n",
    "            or the attention mask for that encoding to a list. The attention mask is\n",
    "            a binary list of 1's or 0's which determine whether the langauge model\n",
    "            should take that token into consideration or not. \n",
    "            \"\"\"\n",
    "            self.input_ids.append(torch.tensor(encodings_dict['input_ids']))\n",
    "            self.attn_masks.append(torch.tensor(encodings_dict['attention_mask']))\n",
    "    \n",
    "    def __len__(self):\n",
    "        return len(self.input_ids)\n",
    "\n",
    "    def __getitem__(self, idx):\n",
    "        return self.input_ids[idx], self.attn_masks[idx] "
   ]
  },
  {
   "cell_type": "code",
   "execution_count": 19,
   "metadata": {
    "colab": {
     "base_uri": "https://localhost:8080/",
     "height": 35
    },
    "id": "ZhxvmKDQzJ1u",
    "outputId": "6387e7d5-7595-4402-aad0-80055b0781cf"
   },
   "outputs": [
    {
     "data": {
      "application/vnd.google.colaboratory.intrinsic+json": {
       "type": "string"
      },
      "text/plain": [
       "'There are 29396 samples for training, and 3267 samples for validation testing'"
      ]
     },
     "execution_count": 19,
     "metadata": {
      "tags": []
     },
     "output_type": "execute_result"
    }
   ],
   "source": [
    "from torch.utils.data import random_split\n",
    "\n",
    "dataset = JokeDataset(jokes, tokenizer, max_length=max_flavour)\n",
    "\n",
    "# Split into training and validation sets\n",
    "train_size = int(0.9 * len(dataset))\n",
    "val_size = len(dataset) - train_size\n",
    "\n",
    "train_dataset, val_dataset = random_split(dataset, [train_size, val_size])\n",
    "\n",
    "f'There are {train_size} samples for training, and {val_size} samples for validation testing'"
   ]
  },
  {
   "cell_type": "code",
   "execution_count": 20,
   "metadata": {
    "id": "mm9zB_7BzLLu"
   },
   "outputs": [],
   "source": [
    "from torch.utils.data import DataLoader, RandomSampler, SequentialSampler\n",
    "\n",
    "train_dataloader = DataLoader(\n",
    "            train_dataset,  \n",
    "            sampler = RandomSampler(train_dataset), # Sampling for training is random\n",
    "            batch_size = bs\n",
    "        )\n",
    "\n",
    "validation_dataloader = DataLoader(\n",
    "            val_dataset, \n",
    "            sampler = SequentialSampler(val_dataset),\n",
    "            batch_size = bs \n",
    "        )"
   ]
  },
  {
   "cell_type": "markdown",
   "metadata": {},
   "source": [
    "## Load pretrained GPT2 from huggingface"
   ]
  },
  {
   "cell_type": "code",
   "execution_count": 21,
   "metadata": {
    "colab": {
     "base_uri": "https://localhost:8080/"
    },
    "id": "oIE5nkU-zMjY",
    "outputId": "dc32a75f-5a03-45a5-f34a-42e1d27bf2f9"
   },
   "outputs": [
    {
     "data": {
      "text/plain": [
       "GPT2LMHeadModel(\n",
       "  (transformer): GPT2Model(\n",
       "    (wte): Embedding(50259, 768)\n",
       "    (wpe): Embedding(1024, 768)\n",
       "    (drop): Dropout(p=0.1, inplace=False)\n",
       "    (h): ModuleList(\n",
       "      (0): Block(\n",
       "        (ln_1): LayerNorm((768,), eps=1e-05, elementwise_affine=True)\n",
       "        (attn): Attention(\n",
       "          (c_attn): Conv1D()\n",
       "          (c_proj): Conv1D()\n",
       "          (attn_dropout): Dropout(p=0.1, inplace=False)\n",
       "          (resid_dropout): Dropout(p=0.1, inplace=False)\n",
       "        )\n",
       "        (ln_2): LayerNorm((768,), eps=1e-05, elementwise_affine=True)\n",
       "        (mlp): MLP(\n",
       "          (c_fc): Conv1D()\n",
       "          (c_proj): Conv1D()\n",
       "          (dropout): Dropout(p=0.1, inplace=False)\n",
       "        )\n",
       "      )\n",
       "      (1): Block(\n",
       "        (ln_1): LayerNorm((768,), eps=1e-05, elementwise_affine=True)\n",
       "        (attn): Attention(\n",
       "          (c_attn): Conv1D()\n",
       "          (c_proj): Conv1D()\n",
       "          (attn_dropout): Dropout(p=0.1, inplace=False)\n",
       "          (resid_dropout): Dropout(p=0.1, inplace=False)\n",
       "        )\n",
       "        (ln_2): LayerNorm((768,), eps=1e-05, elementwise_affine=True)\n",
       "        (mlp): MLP(\n",
       "          (c_fc): Conv1D()\n",
       "          (c_proj): Conv1D()\n",
       "          (dropout): Dropout(p=0.1, inplace=False)\n",
       "        )\n",
       "      )\n",
       "      (2): Block(\n",
       "        (ln_1): LayerNorm((768,), eps=1e-05, elementwise_affine=True)\n",
       "        (attn): Attention(\n",
       "          (c_attn): Conv1D()\n",
       "          (c_proj): Conv1D()\n",
       "          (attn_dropout): Dropout(p=0.1, inplace=False)\n",
       "          (resid_dropout): Dropout(p=0.1, inplace=False)\n",
       "        )\n",
       "        (ln_2): LayerNorm((768,), eps=1e-05, elementwise_affine=True)\n",
       "        (mlp): MLP(\n",
       "          (c_fc): Conv1D()\n",
       "          (c_proj): Conv1D()\n",
       "          (dropout): Dropout(p=0.1, inplace=False)\n",
       "        )\n",
       "      )\n",
       "      (3): Block(\n",
       "        (ln_1): LayerNorm((768,), eps=1e-05, elementwise_affine=True)\n",
       "        (attn): Attention(\n",
       "          (c_attn): Conv1D()\n",
       "          (c_proj): Conv1D()\n",
       "          (attn_dropout): Dropout(p=0.1, inplace=False)\n",
       "          (resid_dropout): Dropout(p=0.1, inplace=False)\n",
       "        )\n",
       "        (ln_2): LayerNorm((768,), eps=1e-05, elementwise_affine=True)\n",
       "        (mlp): MLP(\n",
       "          (c_fc): Conv1D()\n",
       "          (c_proj): Conv1D()\n",
       "          (dropout): Dropout(p=0.1, inplace=False)\n",
       "        )\n",
       "      )\n",
       "      (4): Block(\n",
       "        (ln_1): LayerNorm((768,), eps=1e-05, elementwise_affine=True)\n",
       "        (attn): Attention(\n",
       "          (c_attn): Conv1D()\n",
       "          (c_proj): Conv1D()\n",
       "          (attn_dropout): Dropout(p=0.1, inplace=False)\n",
       "          (resid_dropout): Dropout(p=0.1, inplace=False)\n",
       "        )\n",
       "        (ln_2): LayerNorm((768,), eps=1e-05, elementwise_affine=True)\n",
       "        (mlp): MLP(\n",
       "          (c_fc): Conv1D()\n",
       "          (c_proj): Conv1D()\n",
       "          (dropout): Dropout(p=0.1, inplace=False)\n",
       "        )\n",
       "      )\n",
       "      (5): Block(\n",
       "        (ln_1): LayerNorm((768,), eps=1e-05, elementwise_affine=True)\n",
       "        (attn): Attention(\n",
       "          (c_attn): Conv1D()\n",
       "          (c_proj): Conv1D()\n",
       "          (attn_dropout): Dropout(p=0.1, inplace=False)\n",
       "          (resid_dropout): Dropout(p=0.1, inplace=False)\n",
       "        )\n",
       "        (ln_2): LayerNorm((768,), eps=1e-05, elementwise_affine=True)\n",
       "        (mlp): MLP(\n",
       "          (c_fc): Conv1D()\n",
       "          (c_proj): Conv1D()\n",
       "          (dropout): Dropout(p=0.1, inplace=False)\n",
       "        )\n",
       "      )\n",
       "      (6): Block(\n",
       "        (ln_1): LayerNorm((768,), eps=1e-05, elementwise_affine=True)\n",
       "        (attn): Attention(\n",
       "          (c_attn): Conv1D()\n",
       "          (c_proj): Conv1D()\n",
       "          (attn_dropout): Dropout(p=0.1, inplace=False)\n",
       "          (resid_dropout): Dropout(p=0.1, inplace=False)\n",
       "        )\n",
       "        (ln_2): LayerNorm((768,), eps=1e-05, elementwise_affine=True)\n",
       "        (mlp): MLP(\n",
       "          (c_fc): Conv1D()\n",
       "          (c_proj): Conv1D()\n",
       "          (dropout): Dropout(p=0.1, inplace=False)\n",
       "        )\n",
       "      )\n",
       "      (7): Block(\n",
       "        (ln_1): LayerNorm((768,), eps=1e-05, elementwise_affine=True)\n",
       "        (attn): Attention(\n",
       "          (c_attn): Conv1D()\n",
       "          (c_proj): Conv1D()\n",
       "          (attn_dropout): Dropout(p=0.1, inplace=False)\n",
       "          (resid_dropout): Dropout(p=0.1, inplace=False)\n",
       "        )\n",
       "        (ln_2): LayerNorm((768,), eps=1e-05, elementwise_affine=True)\n",
       "        (mlp): MLP(\n",
       "          (c_fc): Conv1D()\n",
       "          (c_proj): Conv1D()\n",
       "          (dropout): Dropout(p=0.1, inplace=False)\n",
       "        )\n",
       "      )\n",
       "      (8): Block(\n",
       "        (ln_1): LayerNorm((768,), eps=1e-05, elementwise_affine=True)\n",
       "        (attn): Attention(\n",
       "          (c_attn): Conv1D()\n",
       "          (c_proj): Conv1D()\n",
       "          (attn_dropout): Dropout(p=0.1, inplace=False)\n",
       "          (resid_dropout): Dropout(p=0.1, inplace=False)\n",
       "        )\n",
       "        (ln_2): LayerNorm((768,), eps=1e-05, elementwise_affine=True)\n",
       "        (mlp): MLP(\n",
       "          (c_fc): Conv1D()\n",
       "          (c_proj): Conv1D()\n",
       "          (dropout): Dropout(p=0.1, inplace=False)\n",
       "        )\n",
       "      )\n",
       "      (9): Block(\n",
       "        (ln_1): LayerNorm((768,), eps=1e-05, elementwise_affine=True)\n",
       "        (attn): Attention(\n",
       "          (c_attn): Conv1D()\n",
       "          (c_proj): Conv1D()\n",
       "          (attn_dropout): Dropout(p=0.1, inplace=False)\n",
       "          (resid_dropout): Dropout(p=0.1, inplace=False)\n",
       "        )\n",
       "        (ln_2): LayerNorm((768,), eps=1e-05, elementwise_affine=True)\n",
       "        (mlp): MLP(\n",
       "          (c_fc): Conv1D()\n",
       "          (c_proj): Conv1D()\n",
       "          (dropout): Dropout(p=0.1, inplace=False)\n",
       "        )\n",
       "      )\n",
       "      (10): Block(\n",
       "        (ln_1): LayerNorm((768,), eps=1e-05, elementwise_affine=True)\n",
       "        (attn): Attention(\n",
       "          (c_attn): Conv1D()\n",
       "          (c_proj): Conv1D()\n",
       "          (attn_dropout): Dropout(p=0.1, inplace=False)\n",
       "          (resid_dropout): Dropout(p=0.1, inplace=False)\n",
       "        )\n",
       "        (ln_2): LayerNorm((768,), eps=1e-05, elementwise_affine=True)\n",
       "        (mlp): MLP(\n",
       "          (c_fc): Conv1D()\n",
       "          (c_proj): Conv1D()\n",
       "          (dropout): Dropout(p=0.1, inplace=False)\n",
       "        )\n",
       "      )\n",
       "      (11): Block(\n",
       "        (ln_1): LayerNorm((768,), eps=1e-05, elementwise_affine=True)\n",
       "        (attn): Attention(\n",
       "          (c_attn): Conv1D()\n",
       "          (c_proj): Conv1D()\n",
       "          (attn_dropout): Dropout(p=0.1, inplace=False)\n",
       "          (resid_dropout): Dropout(p=0.1, inplace=False)\n",
       "        )\n",
       "        (ln_2): LayerNorm((768,), eps=1e-05, elementwise_affine=True)\n",
       "        (mlp): MLP(\n",
       "          (c_fc): Conv1D()\n",
       "          (c_proj): Conv1D()\n",
       "          (dropout): Dropout(p=0.1, inplace=False)\n",
       "        )\n",
       "      )\n",
       "    )\n",
       "    (ln_f): LayerNorm((768,), eps=1e-05, elementwise_affine=True)\n",
       "  )\n",
       "  (lm_head): Linear(in_features=768, out_features=50259, bias=False)\n",
       ")"
      ]
     },
     "execution_count": 21,
     "metadata": {
      "tags": []
     },
     "output_type": "execute_result"
    }
   ],
   "source": [
    "import random\n",
    "from transformers import GPT2LMHeadModel, GPT2Config\n",
    "import numpy as np\n",
    "\n",
    "# Loading the model configuration and setting it to the GPT2 standard settings.\n",
    "configuration = GPT2Config.from_pretrained('gpt2', output_hidden_states=False)\n",
    "\n",
    "# Create the instance of the model and set the token size embedding length\n",
    "model = GPT2LMHeadModel.from_pretrained(\"gpt2\", config=configuration)\n",
    "model.resize_token_embeddings(len(tokenizer))\n",
    "\n",
    "# Tell pytorch to run this model on the GPU.\n",
    "device = torch.device(\"cuda\")\n",
    "model.cuda()"
   ]
  },
  {
   "cell_type": "markdown",
   "metadata": {},
   "source": [
    "## Fine-tune GPT2"
   ]
  },
  {
   "cell_type": "code",
   "execution_count": 15,
   "metadata": {
    "colab": {
     "base_uri": "https://localhost:8080/"
    },
    "id": "3CspuyfrxpCt",
    "outputId": "b1d87b6f-b7ba-409a-de28-2797fe065201"
   },
   "outputs": [
    {
     "name": "stdout",
     "output_type": "stream",
     "text": [
      "Wed Mar 31 13:58:50 2021       \n",
      "+-----------------------------------------------------------------------------+\n",
      "| NVIDIA-SMI 460.67       Driver Version: 460.32.03    CUDA Version: 11.2     |\n",
      "|-------------------------------+----------------------+----------------------+\n",
      "| GPU  Name        Persistence-M| Bus-Id        Disp.A | Volatile Uncorr. ECC |\n",
      "| Fan  Temp  Perf  Pwr:Usage/Cap|         Memory-Usage | GPU-Util  Compute M. |\n",
      "|                               |                      |               MIG M. |\n",
      "|===============================+======================+======================|\n",
      "|   0  Tesla T4            Off  | 00000000:00:04.0 Off |                    0 |\n",
      "| N/A   60C    P8    12W /  70W |      0MiB / 15109MiB |      0%      Default |\n",
      "|                               |                      |                  N/A |\n",
      "+-------------------------------+----------------------+----------------------+\n",
      "                                                                               \n",
      "+-----------------------------------------------------------------------------+\n",
      "| Processes:                                                                  |\n",
      "|  GPU   GI   CI        PID   Type   Process name                  GPU Memory |\n",
      "|        ID   ID                                                   Usage      |\n",
      "|=============================================================================|\n",
      "|  No running processes found                                                 |\n",
      "+-----------------------------------------------------------------------------+\n"
     ]
    }
   ],
   "source": [
    "!nvidia-smi"
   ]
  },
  {
   "cell_type": "code",
   "execution_count": 22,
   "metadata": {
    "id": "wfbzkeMhFEnV"
   },
   "outputs": [],
   "source": [
    "# This step is optional but will enable reproducible runs.\n",
    "seed_val = 42\n",
    "seed_everything(seed_val)"
   ]
  },
  {
   "cell_type": "code",
   "execution_count": 23,
   "metadata": {
    "id": "IJRYvU9O0QOG"
   },
   "outputs": [],
   "source": [
    "epochs = 4\n",
    "warmup_steps = 1e2\n",
    "sample_every = 100"
   ]
  },
  {
   "cell_type": "code",
   "execution_count": 24,
   "metadata": {
    "id": "W9PKiyfRzN4U"
   },
   "outputs": [],
   "source": [
    "from transformers import AdamW\n",
    "# AdamW is a class from the huggingface library, it is the optimizer we will be using, and we will only be instantiating it with the default parameters. \n",
    "optimizer = AdamW(model.parameters(),\n",
    "                  lr = 5e-4,\n",
    "                  eps = 1e-8\n",
    "                )"
   ]
  },
  {
   "cell_type": "code",
   "execution_count": 25,
   "metadata": {
    "id": "F8JyjUxe0VO4"
   },
   "outputs": [],
   "source": [
    "from transformers import get_linear_schedule_with_warmup\n",
    "\n",
    "\"\"\"\n",
    "Total training steps is the number of data points, times the number of epochs. \n",
    "Essentially, epochs are training cycles, how many times each point will be seen by the model. \n",
    "\"\"\"\n",
    "\n",
    "total_steps = len(train_dataloader) * epochs\n",
    "\n",
    "\"\"\"\n",
    "We can set a variable learning rate which will help scan larger areas of the \n",
    "problem space at higher LR earlier, then fine tune to find the exact model minima \n",
    "at lower LR later in training.\n",
    "\"\"\"\n",
    "scheduler = get_linear_schedule_with_warmup(optimizer, \n",
    "                                            num_warmup_steps = warmup_steps, \n",
    "                                            num_training_steps = total_steps)"
   ]
  },
  {
   "cell_type": "code",
   "execution_count": 26,
   "metadata": {
    "colab": {
     "base_uri": "https://localhost:8080/"
    },
    "id": "rTEHi0zjzQcx",
    "outputId": "0c808810-6679-4085-8042-6b3839fbdb4d"
   },
   "outputs": [
    {
     "name": "stdout",
     "output_type": "stream",
     "text": [
      "Beginning epoch 1 of 4\n"
     ]
    },
    {
     "name": "stderr",
     "output_type": "stream",
     "text": [
      "Setting `pad_token_id` to `eos_token_id`:50256 for open-end generation.\n"
     ]
    },
    {
     "name": "stdout",
     "output_type": "stream",
     "text": [
      "Batch 100 of 919. Loss:0.9757152795791626. Time:0:01:33\n",
      "Example output:  bipartisanTwo Men in Gold, The Two Heaves That Make the best of the worst.\n",
      "He was the only man in our history who could make our dreams come true.\n"
     ]
    },
    {
     "name": "stderr",
     "output_type": "stream",
     "text": [
      "Setting `pad_token_id` to `eos_token_id`:50256 for open-end generation.\n"
     ]
    },
    {
     "name": "stdout",
     "output_type": "stream",
     "text": [
      "Batch 200 of 919. Loss:1.072882056236267. Time:0:03:08\n",
      "Example output:  increasingMy husband: \"You see it? You see me now.\" \n"
     ]
    },
    {
     "name": "stderr",
     "output_type": "stream",
     "text": [
      "Setting `pad_token_id` to `eos_token_id`:50256 for open-end generation.\n"
     ]
    },
    {
     "name": "stdout",
     "output_type": "stream",
     "text": [
      "Batch 300 of 919. Loss:0.9767699837684631. Time:0:04:43\n",
      "Example output: dayMy wife says to me, \"Just write this book\"\n",
      "I say, \"Do you want a man or a woman?\"\n",
      "\n",
      "She says, \"Yes and don't be surprised because your wife will do your job.\"\n"
     ]
    },
    {
     "name": "stderr",
     "output_type": "stream",
     "text": [
      "Setting `pad_token_id` to `eos_token_id`:50256 for open-end generation.\n"
     ]
    },
    {
     "name": "stdout",
     "output_type": "stream",
     "text": [
      "Batch 400 of 919. Loss:0.9983767867088318. Time:0:06:18\n",
      "Example output:  HangWhy did the man from Iceland go to hell?\n",
      "Because he could never put food on the table.\n"
     ]
    },
    {
     "name": "stderr",
     "output_type": "stream",
     "text": [
      "Setting `pad_token_id` to `eos_token_id`:50256 for open-end generation.\n"
     ]
    },
    {
     "name": "stdout",
     "output_type": "stream",
     "text": [
      "Batch 500 of 919. Loss:0.9815222024917603. Time:0:07:52\n",
      "Example output:  foodsWhat do you call a racist guy?\n",
      "A black guy.\n"
     ]
    },
    {
     "name": "stderr",
     "output_type": "stream",
     "text": [
      "Setting `pad_token_id` to `eos_token_id`:50256 for open-end generation.\n"
     ]
    },
    {
     "name": "stdout",
     "output_type": "stream",
     "text": [
      "Batch 600 of 919. Loss:0.8409900069236755. Time:0:09:25\n",
      "Example output:  trailThe last man left me.\n",
      "Because he lost everything\n"
     ]
    },
    {
     "name": "stderr",
     "output_type": "stream",
     "text": [
      "Setting `pad_token_id` to `eos_token_id`:50256 for open-end generation.\n"
     ]
    },
    {
     "name": "stdout",
     "output_type": "stream",
     "text": [
      "Batch 700 of 919. Loss:0.940541684627533. Time:0:10:57\n",
      "Example output: intendI'm a vegan and I love all the meat, meat, chicken, and eggs, but there are too many trans fats.\n",
      "Because you'll never find your legs on a tree.\n"
     ]
    },
    {
     "name": "stderr",
     "output_type": "stream",
     "text": [
      "Setting `pad_token_id` to `eos_token_id`:50256 for open-end generation.\n"
     ]
    },
    {
     "name": "stdout",
     "output_type": "stream",
     "text": [
      "Batch 800 of 919. Loss:0.700189471244812. Time:0:12:29\n",
      "Example output:  surroundDid you hear about the man who was obsessed with becoming a star at the gym?\n",
      "He started his career at the gym.. \n"
     ]
    },
    {
     "name": "stderr",
     "output_type": "stream",
     "text": [
      "Setting `pad_token_id` to `eos_token_id`:50256 for open-end generation.\n"
     ]
    },
    {
     "name": "stdout",
     "output_type": "stream",
     "text": [
      "Batch 900 of 919. Loss:0.8360730409622192. Time:0:14:01\n",
      "Example output:  reflexI love my girls like I love my pizza\n",
      "But I have my own servers\n",
      "Average Training Loss: 1.2551103594253838. Epoch time: 0:14:18\n",
      "Validation loss: 0.8398853013816389. Validation Time: 0:00:32\n",
      "Beginning epoch 2 of 4\n"
     ]
    },
    {
     "name": "stderr",
     "output_type": "stream",
     "text": [
      "Setting `pad_token_id` to `eos_token_id`:50256 for open-end generation.\n"
     ]
    },
    {
     "name": "stdout",
     "output_type": "stream",
     "text": [
      "Batch 100 of 919. Loss:0.8163537979125977. Time:0:01:32\n",
      "Example output:  displayWhat is the difference between an Englishman and an Irishman?\n",
      "The Englishman only gets a penny\n"
     ]
    },
    {
     "name": "stderr",
     "output_type": "stream",
     "text": [
      "Setting `pad_token_id` to `eos_token_id`:50256 for open-end generation.\n"
     ]
    },
    {
     "name": "stdout",
     "output_type": "stream",
     "text": [
      "Batch 200 of 919. Loss:0.6686833500862122. Time:0:03:04\n",
      "Example output:  pastorWhat does a pedophile's least favorite letter have in common with his best friend?\n",
      "It reads, “We’re not talking.”\n"
     ]
    },
    {
     "name": "stderr",
     "output_type": "stream",
     "text": [
      "Setting `pad_token_id` to `eos_token_id`:50256 for open-end generation.\n"
     ]
    },
    {
     "name": "stdout",
     "output_type": "stream",
     "text": [
      "Batch 300 of 919. Loss:0.6848289370536804. Time:0:04:37\n",
      "Example output:  illicitWhat's the difference between a well dressed man on a bike and a well dressed man on a bicycle?\n",
      "Attire.\n"
     ]
    },
    {
     "name": "stderr",
     "output_type": "stream",
     "text": [
      "Setting `pad_token_id` to `eos_token_id`:50256 for open-end generation.\n"
     ]
    },
    {
     "name": "stdout",
     "output_type": "stream",
     "text": [
      "Batch 400 of 919. Loss:0.9569305181503296. Time:0:06:10\n",
      "Example output:  LiberationWhat did the blonde say to the eye doctor on the Intensive Care Unit?\n",
      "\"How do I see myself in five years, now?\"\n"
     ]
    },
    {
     "name": "stderr",
     "output_type": "stream",
     "text": [
      "Setting `pad_token_id` to `eos_token_id`:50256 for open-end generation.\n"
     ]
    },
    {
     "name": "stdout",
     "output_type": "stream",
     "text": [
      "Batch 500 of 919. Loss:0.7483964562416077. Time:0:07:43\n",
      "Example output:  NamWhat do you call a blonde that runs on her tail?\n",
      "A blonde toupee.\n"
     ]
    },
    {
     "name": "stderr",
     "output_type": "stream",
     "text": [
      "Setting `pad_token_id` to `eos_token_id`:50256 for open-end generation.\n"
     ]
    },
    {
     "name": "stdout",
     "output_type": "stream",
     "text": [
      "Batch 600 of 919. Loss:0.7118595838546753. Time:0:09:15\n",
      "Example output: IONI was just diagnosed with stage 4 agnobility....\n",
      "It's a stage 2 stage.\n"
     ]
    },
    {
     "name": "stderr",
     "output_type": "stream",
     "text": [
      "Setting `pad_token_id` to `eos_token_id`:50256 for open-end generation.\n"
     ]
    },
    {
     "name": "stdout",
     "output_type": "stream",
     "text": [
      "Batch 700 of 919. Loss:0.5912878513336182. Time:0:10:47\n",
      "Example output:  glimpseMy lesbian neighbors think I'm a stud...\n",
      "because I have a boner... \n"
     ]
    },
    {
     "name": "stderr",
     "output_type": "stream",
     "text": [
      "Setting `pad_token_id` to `eos_token_id`:50256 for open-end generation.\n"
     ]
    },
    {
     "name": "stdout",
     "output_type": "stream",
     "text": [
      "Batch 800 of 919. Loss:0.7121047973632812. Time:0:12:19\n",
      "Example output:  LaureI love my coffee\n",
      "so I have a place where I canresso it.\n"
     ]
    },
    {
     "name": "stderr",
     "output_type": "stream",
     "text": [
      "Setting `pad_token_id` to `eos_token_id`:50256 for open-end generation.\n"
     ]
    },
    {
     "name": "stdout",
     "output_type": "stream",
     "text": [
      "Batch 900 of 919. Loss:0.9084447026252747. Time:0:13:52\n",
      "Example output: ismHow does a man get the police to report a murder on him?\n",
      "The police have been called.\n",
      "Average Training Loss: 0.7752991439338867. Epoch time: 0:14:09\n",
      "Validation loss: 0.7792768281640359. Validation Time: 0:00:32\n",
      "Beginning epoch 3 of 4\n"
     ]
    },
    {
     "name": "stderr",
     "output_type": "stream",
     "text": [
      "Setting `pad_token_id` to `eos_token_id`:50256 for open-end generation.\n"
     ]
    },
    {
     "name": "stdout",
     "output_type": "stream",
     "text": [
      "Batch 100 of 919. Loss:0.6436154246330261. Time:0:01:32\n",
      "Example output: ounTwo guys were talking about the effects of smoking weed on your body...\n",
      "They said smoking weed causes \"burns\" \n"
     ]
    },
    {
     "name": "stderr",
     "output_type": "stream",
     "text": [
      "Setting `pad_token_id` to `eos_token_id`:50256 for open-end generation.\n"
     ]
    },
    {
     "name": "stdout",
     "output_type": "stream",
     "text": [
      "Batch 200 of 919. Loss:0.583911657333374. Time:0:03:05\n",
      "Example output:  electionHow do you make a hippie joke\n",
      "A man walks into a bar and says, \"I'll have a beer.\"\n"
     ]
    },
    {
     "name": "stderr",
     "output_type": "stream",
     "text": [
      "Setting `pad_token_id` to `eos_token_id`:50256 for open-end generation.\n"
     ]
    },
    {
     "name": "stdout",
     "output_type": "stream",
     "text": [
      "Batch 300 of 919. Loss:0.7605085372924805. Time:0:04:37\n",
      "Example output:  crazyWhat do you call a fat psychic?\n",
      "A four chin teller.\n"
     ]
    },
    {
     "name": "stderr",
     "output_type": "stream",
     "text": [
      "Setting `pad_token_id` to `eos_token_id`:50256 for open-end generation.\n"
     ]
    },
    {
     "name": "stdout",
     "output_type": "stream",
     "text": [
      "Batch 400 of 919. Loss:0.7425921559333801. Time:0:06:09\n",
      "Example output:  benchI lost a few coins today and I forgot to carry a newspaper...\n",
      "... so I stole that.\n"
     ]
    },
    {
     "name": "stderr",
     "output_type": "stream",
     "text": [
      "Setting `pad_token_id` to `eos_token_id`:50256 for open-end generation.\n"
     ]
    },
    {
     "name": "stdout",
     "output_type": "stream",
     "text": [
      "Batch 500 of 919. Loss:0.60273277759552. Time:0:07:42\n",
      "Example output:  incorporatedSo many Brits don't realise how many times they've been to Chernobyl.\n",
      "It’s always a great thing to hear one British mum tell her daughter. \n"
     ]
    },
    {
     "name": "stderr",
     "output_type": "stream",
     "text": [
      "Setting `pad_token_id` to `eos_token_id`:50256 for open-end generation.\n"
     ]
    },
    {
     "name": "stdout",
     "output_type": "stream",
     "text": [
      "Batch 600 of 919. Loss:0.631446123123169. Time:0:09:14\n",
      "Example output: PeterA man who is in a hurry wakes up and his grandmother tells him, \"Your nose is starting to show up.\"\n",
      "\n",
      "\n",
      "\"No, no,\" replied the man.  \"My gums are all getting bigger.\"\n"
     ]
    },
    {
     "name": "stderr",
     "output_type": "stream",
     "text": [
      "Setting `pad_token_id` to `eos_token_id`:50256 for open-end generation.\n"
     ]
    },
    {
     "name": "stdout",
     "output_type": "stream",
     "text": [
      "Batch 700 of 919. Loss:0.6942398548126221. Time:0:10:47\n",
      "Example output: uringWhy are all jewish men circumcised?\n",
      "So they can shave their privates.\n"
     ]
    },
    {
     "name": "stderr",
     "output_type": "stream",
     "text": [
      "Setting `pad_token_id` to `eos_token_id`:50256 for open-end generation.\n"
     ]
    },
    {
     "name": "stdout",
     "output_type": "stream",
     "text": [
      "Batch 800 of 919. Loss:0.5334432721138. Time:0:12:19\n",
      "Example output:  reproductiveA bear goes to the barber's shop\n",
      "\"I'll have a haircut on the nose!\"\n",
      "\n",
      "He nods and says \"I'll have to wash my hands first.\"\n",
      "\n",
      "The barber nods, \"I don't want to be late.\"\n"
     ]
    },
    {
     "name": "stderr",
     "output_type": "stream",
     "text": [
      "Setting `pad_token_id` to `eos_token_id`:50256 for open-end generation.\n"
     ]
    },
    {
     "name": "stdout",
     "output_type": "stream",
     "text": [
      "Batch 900 of 919. Loss:0.5597162246704102. Time:0:13:51\n",
      "Example output:  zoneMy father taught me one day that a good way to motivate your kids is to always say “I’m already doing this” and then you’re doing it again...\n",
      "Maybe teaching a dad can make you a better dad\n",
      "Average Training Loss: 0.656819901476747. Epoch time: 0:14:09\n",
      "Validation loss: 0.7576851671181836. Validation Time: 0:00:33\n",
      "Beginning epoch 4 of 4\n"
     ]
    },
    {
     "name": "stderr",
     "output_type": "stream",
     "text": [
      "Setting `pad_token_id` to `eos_token_id`:50256 for open-end generation.\n"
     ]
    },
    {
     "name": "stdout",
     "output_type": "stream",
     "text": [
      "Batch 100 of 919. Loss:0.6144763827323914. Time:0:01:32\n",
      "Example output:  commitsWhat do you get when you cross an insomniac with a dyslexic?\n",
      "Someone who sits at the top of your head, but stands out.\n"
     ]
    },
    {
     "name": "stderr",
     "output_type": "stream",
     "text": [
      "Setting `pad_token_id` to `eos_token_id`:50256 for open-end generation.\n"
     ]
    },
    {
     "name": "stdout",
     "output_type": "stream",
     "text": [
      "Batch 200 of 919. Loss:0.4692046046257019. Time:0:03:05\n",
      "Example output:  ironyI accidentally swallowed some Scrabble tiles...\n",
      "\n",
      "As a former player of the Nintendo 64, I don't know why I keep getting stuck in that weirdo habit. \n"
     ]
    },
    {
     "name": "stderr",
     "output_type": "stream",
     "text": [
      "Setting `pad_token_id` to `eos_token_id`:50256 for open-end generation.\n"
     ]
    },
    {
     "name": "stdout",
     "output_type": "stream",
     "text": [
      "Batch 300 of 919. Loss:0.512018620967865. Time:0:04:37\n",
      "Example output:  SahWhat do you call a communist sniper?\n",
      "A marxman. \n"
     ]
    },
    {
     "name": "stderr",
     "output_type": "stream",
     "text": [
      "Setting `pad_token_id` to `eos_token_id`:50256 for open-end generation.\n"
     ]
    },
    {
     "name": "stdout",
     "output_type": "stream",
     "text": [
      "Batch 400 of 919. Loss:0.6045539379119873. Time:0:06:10\n",
      "Example output:  BryanWhy do native Americans hate snow?\n",
      "Because it's white and settles on their land.\n"
     ]
    },
    {
     "name": "stderr",
     "output_type": "stream",
     "text": [
      "Setting `pad_token_id` to `eos_token_id`:50256 for open-end generation.\n"
     ]
    },
    {
     "name": "stdout",
     "output_type": "stream",
     "text": [
      "Batch 500 of 919. Loss:0.630866527557373. Time:0:07:42\n",
      "Example output:  spiritsI just realized that being homeless is NOT a fun job!\n",
      "I've been working out for the past 8 months and I've already started a couple of triathlons.\n"
     ]
    },
    {
     "name": "stderr",
     "output_type": "stream",
     "text": [
      "Setting `pad_token_id` to `eos_token_id`:50256 for open-end generation.\n"
     ]
    },
    {
     "name": "stdout",
     "output_type": "stream",
     "text": [
      "Batch 600 of 919. Loss:0.5862810611724854. Time:0:09:14\n",
      "Example output:  seesIf a Chinese guy refuses to be stoned by a Chinese girl, and is raped by a german girl, he will be asked to purchase some Viagra\n",
      "He will be completely harmless until you ask him to pronounce it aloud \n"
     ]
    },
    {
     "name": "stderr",
     "output_type": "stream",
     "text": [
      "Setting `pad_token_id` to `eos_token_id`:50256 for open-end generation.\n"
     ]
    },
    {
     "name": "stdout",
     "output_type": "stream",
     "text": [
      "Batch 700 of 919. Loss:0.5213043689727783. Time:0:10:47\n",
      "Example output:  hungryWhat do women and refrigerators have in common?\n",
      "Both are killing your baby, and both are making your corpse look and smell like it was made of meat.\n"
     ]
    },
    {
     "name": "stderr",
     "output_type": "stream",
     "text": [
      "Setting `pad_token_id` to `eos_token_id`:50256 for open-end generation.\n"
     ]
    },
    {
     "name": "stdout",
     "output_type": "stream",
     "text": [
      "Batch 800 of 919. Loss:0.5127507448196411. Time:0:12:20\n",
      "Example output:  PTI accidentally swallowed an ice cube\n",
      "As I was rolling down my grave I realized I had the body of an 18 year old\n"
     ]
    },
    {
     "name": "stderr",
     "output_type": "stream",
     "text": [
      "Setting `pad_token_id` to `eos_token_id`:50256 for open-end generation.\n"
     ]
    },
    {
     "name": "stdout",
     "output_type": "stream",
     "text": [
      "Batch 900 of 919. Loss:0.5704272389411926. Time:0:13:52\n",
      "Example output: üMy girlfriend dumped me for talking too much about video games\n",
      "She still isn't talking to me\n",
      "Average Training Loss: 0.5688626759070436. Epoch time: 0:14:09\n",
      "Validation loss: 0.7618596264459554. Validation Time: 0:00:32\n",
      "Total training took 0:58:55\n"
     ]
    }
   ],
   "source": [
    "import random\n",
    "import time\n",
    "import datetime\n",
    "\n",
    "def format_time(elapsed):\n",
    "    return str(datetime.timedelta(seconds=int(round((elapsed)))))\n",
    "\n",
    "total_t0 = time.time()\n",
    "\n",
    "training_stats = []\n",
    "\n",
    "model = model.to(device)\n",
    "\n",
    "for epoch_i in range(0, epochs):\n",
    "\n",
    "    print(f'Beginning epoch {epoch_i + 1} of {epochs}')\n",
    "\n",
    "    t0 = time.time()\n",
    "\n",
    "    total_train_loss = 0\n",
    "\n",
    "    model.train()\n",
    "\n",
    "    for step, batch in enumerate(train_dataloader):\n",
    "\n",
    "        b_input_ids = batch[0].to(device)\n",
    "        b_labels = batch[0].to(device)\n",
    "        b_masks = batch[1].to(device)\n",
    "\n",
    "        model.zero_grad()        \n",
    "\n",
    "        outputs = model(  b_input_ids,\n",
    "                          labels=b_labels, \n",
    "                          attention_mask = b_masks,\n",
    "                          token_type_ids=None\n",
    "                        )\n",
    "\n",
    "        loss = outputs[0]  \n",
    "\n",
    "        batch_loss = loss.item()\n",
    "        total_train_loss += batch_loss\n",
    "\n",
    "        # Get sample every 100 batches.\n",
    "        if step % sample_every == 0 and not step == 0:\n",
    "\n",
    "            elapsed = format_time(time.time() - t0)\n",
    "            print(f'Batch {step} of {len(train_dataloader)}. Loss:{batch_loss}. Time:{elapsed}')\n",
    "\n",
    "            model.eval()\n",
    "\n",
    "            sample_outputs = model.generate(\n",
    "                                    bos_token_id=random.randint(1,30000),\n",
    "                                    do_sample=True,   \n",
    "                                    top_k=50, \n",
    "                                    max_length = 200,\n",
    "                                    top_p=0.95, \n",
    "                                    num_return_sequences=1\n",
    "                                )\n",
    "            for i, sample_output in enumerate(sample_outputs):\n",
    "                  print(f'Example output: {tokenizer.decode(sample_output, skip_special_tokens=True)}')\n",
    "            \n",
    "            model.train()\n",
    "\n",
    "        loss.backward()\n",
    "\n",
    "        optimizer.step()\n",
    "\n",
    "        scheduler.step()\n",
    "\n",
    "    # Calculate the average loss over all of the batches.\n",
    "    avg_train_loss = total_train_loss / len(train_dataloader)       \n",
    "    \n",
    "    # Measure how long this epoch took.\n",
    "    training_time = format_time(time.time() - t0)\n",
    "\n",
    "    print(f'Average Training Loss: {avg_train_loss}. Epoch time: {training_time}')\n",
    "\n",
    "    t0 = time.time()\n",
    "\n",
    "    model.eval()\n",
    "\n",
    "    total_eval_loss = 0\n",
    "    nb_eval_steps = 0\n",
    "\n",
    "    # Evaluate data for one epoch\n",
    "    for batch in validation_dataloader:\n",
    "        \n",
    "        b_input_ids = batch[0].to(device)\n",
    "        b_labels = batch[0].to(device)\n",
    "        b_masks = batch[1].to(device)\n",
    "        \n",
    "        with torch.no_grad():        \n",
    "\n",
    "            outputs  = model(b_input_ids,  \n",
    "                             attention_mask = b_masks,\n",
    "                             labels=b_labels)\n",
    "          \n",
    "            loss = outputs[0]  \n",
    "            \n",
    "        batch_loss = loss.item()\n",
    "        total_eval_loss += batch_loss        \n",
    "\n",
    "    avg_val_loss = total_eval_loss / len(validation_dataloader)\n",
    "    \n",
    "    validation_time = format_time(time.time() - t0)    \n",
    "\n",
    "    print(f'Validation loss: {avg_val_loss}. Validation Time: {validation_time}')\n",
    "\n",
    "    # Record all statistics from this epoch.\n",
    "    training_stats.append(\n",
    "        {\n",
    "            'epoch': epoch_i + 1,\n",
    "            'Training Loss': avg_train_loss,\n",
    "            'Valid. Loss': avg_val_loss,\n",
    "            'Training Time': training_time,\n",
    "            'Validation Time': validation_time\n",
    "        }\n",
    "    )\n",
    "\n",
    "print(f'Total training took {format_time(time.time()-total_t0)}')"
   ]
  },
  {
   "cell_type": "markdown",
   "metadata": {},
   "source": [
    "## Investigate Losses"
   ]
  },
  {
   "cell_type": "code",
   "execution_count": 27,
   "metadata": {
    "colab": {
     "base_uri": "https://localhost:8080/",
     "height": 427
    },
    "id": "4wUhmDSzzSI8",
    "outputId": "ad79b925-66a4-4efa-9c87-019d38a4aab2"
   },
   "outputs": [
    {
     "data": {
      "image/png": "[encoded data removed]",
      "text/plain": [
       "<Figure size 864x432 with 1 Axes>"
      ]
     },
     "metadata": {
      "tags": []
     },
     "output_type": "display_data"
    }
   ],
   "source": [
    "import seaborn as sns\n",
    "import matplotlib.pyplot as plt\n",
    "% matplotlib inline\n",
    "\n",
    "pd.set_option('precision', 2)\n",
    "df_stats = pd.DataFrame(data=training_stats)\n",
    "df_stats = df_stats.set_index('epoch')\n",
    "\n",
    "# Use plot styling from seaborn.\n",
    "sns.set(style='darkgrid')\n",
    "\n",
    "# Increase the plot size and font size.\n",
    "sns.set(font_scale=1.5)\n",
    "plt.rcParams[\"figure.figsize\"] = (12,6)\n",
    "\n",
    "# Plot the learning curve.\n",
    "plt.plot(df_stats['Training Loss'], 'b-o', label=\"Training\")\n",
    "plt.plot(df_stats['Valid. Loss'], 'g-o', label=\"Validation\")\n",
    "\n",
    "# Label the plot.\n",
    "plt.title(\"Training & Validation Loss\")\n",
    "plt.xlabel(\"Epoch\")\n",
    "plt.ylabel(\"Loss\")\n",
    "plt.legend()\n",
    "plt.xticks([1, 2, 3, 4])\n",
    "\n",
    "plt.show()"
   ]
  },
  {
   "cell_type": "markdown",
   "metadata": {},
   "source": [
    "## Generate Jokes"
   ]
  },
  {
   "cell_type": "code",
   "execution_count": 28,
   "metadata": {
    "colab": {
     "base_uri": "https://localhost:8080/"
    },
    "id": "6V2sTv0N0a3e",
    "outputId": "11be1c87-8629-43c4-add1-ac534175b7dd"
   },
   "outputs": [
    {
     "name": "stderr",
     "output_type": "stream",
     "text": [
      "Setting `pad_token_id` to `eos_token_id`:50256 for open-end generation.\n"
     ]
    },
    {
     "name": "stdout",
     "output_type": "stream",
     "text": [
      "0: I told my psychiatrist about my feelings of suicidal tendencies...\n",
      "He sent him a suicide note\n",
      "\n",
      "\n",
      "\n",
      "1: Why do Sumo wrestlers shave their legs in between their sets?\n",
      "Because Sumo wrestlers have a great ass. \n",
      "\n",
      "\n",
      "2: I like my women like I like my coffee\n",
      "7 years old, mostly,\n",
      "\n",
      "6 months old, with a little extra coffee,\n",
      "\n",
      "9 months old, with nothing but a light load of mayonnaise on the coffee stick\n",
      "\n",
      "What do you call a girl who doesn't have coffee? \n",
      "\n",
      "\n",
      "3: What’s the difference between a pick pocket and a peeping tom?\n",
      "A pick pocket snatches watches.\n",
      "\n",
      "\n",
      "4: My wife asked me which shampoo I should apply.\n",
      "So I just gave her 3 different. Guess I should try Tide Pods or something...\n",
      "\n",
      "\n",
      "5: I got fired from the calendar factory today because I kept mis-shoring dates.\n",
      "I'm not putting in enough dates.\n",
      "\n",
      "\n",
      "6: Did you know that the Chinese make white noise, like they do on TV?\n",
      "You can't hear them on the street, they just make white noise.\n",
      "\n",
      "\n",
      "7: I’m getting tired of people saying \"I can’t understand you\" and \"You mean like, like, like, you can’t even understand me\"?\n",
      "Well that’s a strange way to start a conversation with me.\n",
      "\n",
      "\n",
      "8: My buddy was telling me about a really weird ability he had that works best when triggered.\n",
      "It was this ability that woke him up.\n",
      "\n",
      "\n",
      "9: A boy runs into a bar...\n",
      "A boy runs into a bar and yells \"hey dad! I'm an Atheist!\"\n",
      "\n",
      "The dad replies \"what do you mean, that's right!\"\n",
      "\n",
      "\n",
      "10: What's the difference between a cat and a comma?\n",
      "A cat has claws at the end of its paws and a comma is a pause at the end of a clause. \n",
      "\n",
      "\n",
      "11: What's Whitney Houston's favorite sex position?\n",
      "Ask your mom.\n",
      "\n",
      "\n",
      "12: What's the worst part about fingering a gypsy on her period?\n",
      "You don't want her to know you're just after your money\n",
      "\n",
      "\n",
      "13: What is the opposite of a bad joke?\n",
      "Dead silence\n",
      "\n",
      "\n",
      "14: I like my women how I like my wine.\n",
      "Untill she's finished distilling it.\n",
      "\n",
      "\n",
      "15: My mate asked me what I wanted to drink.\n",
      "I said to him \"Nothing, but don't drink anyway.\" \n",
      "\n",
      "\n",
      "\n",
      "16: I was in the hospital today with a german body part.\n",
      "We're looking into it.\n",
      "\n",
      "\n",
      "17: My son is such an insufferable cunt I even tried to have him vaccinated against measles and polio.\n",
      "But boy, is it still possible to have a kid without autism?\n",
      "\n",
      "\n",
      "18: My friends asked me if I knew where the Titanic went\n",
      "I told them, yes. It sank on the way to Japan.\n",
      "\n",
      "\n",
      "19: Wife's: It feels like you are having a heart attack\n",
      "Husband: Oh well.\n",
      "\n",
      "Wife's: (unfazed) I have a headache...\n",
      "\n",
      "Husband: But I'm still having a headache.\n",
      "\n",
      "Wife's: Is it your wife?\n",
      "\n",
      "Husband: (laughing) Sorry.\n",
      "\n",
      "\n",
      "20: I was on a blind date with this girl the other day.\n",
      "We clicked because she wasn't wearing any clothes. \n",
      "\n",
      "\n",
      "21: The man who invented autocorrect says he is leaving for work tomorrow\n",
      "Because \"my next job will be writing better memos\"\n",
      "\n",
      "\n",
      "22: What do you get when you mix human DNA with goat DNA?\n",
      "Banned from the petting zoo.\n",
      "\n",
      "\n",
      "23: How many optometrists does it take to change a light bulb?\n",
      "One, or two? \n",
      "\n",
      "\n",
      "\n",
      "\n",
      "24: I saw a gay man in the street yesterday...\n",
      "...so I told him to get out.\n",
      "\n",
      "\n"
     ]
    }
   ],
   "source": [
    "model.eval()\n",
    "seed_everything(42)\n",
    "\n",
    "prompt = \"<|startoftext|>\"\n",
    "\n",
    "generated = torch.tensor(tokenizer.encode(prompt)).unsqueeze(0)\n",
    "generated = generated.to(device)\n",
    "\n",
    "sample_outputs = model.generate(\n",
    "                                generated, \n",
    "                                do_sample=True,   \n",
    "                                top_k=50, \n",
    "                                max_length = 300,\n",
    "                                top_p=0.95, \n",
    "                                num_return_sequences=25 # if set then no sample?\n",
    "                                )\n",
    "\n",
    "for i, sample_output in enumerate(sample_outputs):\n",
    "  print(\"{}: {}\\n\\n\".format(i, tokenizer.decode(sample_output, skip_special_tokens=True)))"
   ]
  },
  {
   "cell_type": "markdown",
   "metadata": {
    "id": "CG1CUxLQ5ryd"
   },
   "source": [
    "## Save Model"
   ]
  },
  {
   "cell_type": "code",
   "execution_count": 29,
   "metadata": {
    "colab": {
     "base_uri": "https://localhost:8080/"
    },
    "id": "_xqQ2Zb_IWvV",
    "outputId": "af008d84-31f2-449f-ee3d-28e2ab992d17"
   },
   "outputs": [
    {
     "data": {
      "text/plain": [
       "('drive/MyDrive/Colab Notebooks/Jokster/tokenizer_config.json',\n",
       " 'drive/MyDrive/Colab Notebooks/Jokster/special_tokens_map.json',\n",
       " 'drive/MyDrive/Colab Notebooks/Jokster/vocab.json',\n",
       " 'drive/MyDrive/Colab Notebooks/Jokster/merges.txt',\n",
       " 'drive/MyDrive/Colab Notebooks/Jokster/added_tokens.json')"
      ]
     },
     "execution_count": 29,
     "metadata": {
      "tags": []
     },
     "output_type": "execute_result"
    }
   ],
   "source": [
    "import os\n",
    "\n",
    "output_dir = 'drive/MyDrive/Colab Notebooks/Jokster'\n",
    "\n",
    "# Save a trained model, configuration and tokenizer using `save_pretrained()`.\n",
    "# They can then be reloaded using `from_pretrained()`\n",
    "model_to_save = model.module if hasattr(model, 'module') else model\n",
    "model_to_save.save_pretrained(output_dir)\n",
    "tokenizer.save_pretrained(output_dir)"
   ]
  },
  {
   "cell_type": "code",
   "execution_count": 29,
   "metadata": {
    "id": "wwgxQqk5IcRR"
   },
   "outputs": [],
   "source": []
  }
 ],
 "metadata": {
  "accelerator": "GPU",
  "colab": {
   "collapsed_sections": [],
   "name": "JokeCompletion.ipynb",
   "provenance": []
  },
  "kernelspec": {
   "display_name": "Python 3",
   "language": "python",
   "name": "python3"
  },
  "language_info": {
   "codemirror_mode": {
    "name": "ipython",
    "version": 3
   },
   "file_extension": ".py",
   "mimetype": "text/x-python",
   "name": "python",
   "nbconvert_exporter": "python",
   "pygments_lexer": "ipython3",
   "version": "3.8.1"
  }
 },
 "nbformat": 4,
 "nbformat_minor": 1
}
